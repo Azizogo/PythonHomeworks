{
 "cells": [
  {
   "metadata": {},
   "cell_type": "markdown",
   "source": "# LIST #\n",
   "id": "d5115fb66b1f4ba3"
  },
  {
   "metadata": {
    "ExecuteTime": {
     "end_time": "2025-02-18T07:02:00.600071Z",
     "start_time": "2025-02-18T07:02:00.591644Z"
    }
   },
   "cell_type": "code",
   "source": [
    "from importlib.resources.readers import remove_duplicates\n",
    "from itertools import count\n",
    "\n",
    "#1\n",
    "i = [1, 2, 3, 4, 3, 4, 2,6,7]\n",
    "j = 2\n",
    "i.count(j)"
   ],
   "id": "4896de9e7abc2790",
   "outputs": [
    {
     "data": {
      "text/plain": [
       "2"
      ]
     },
     "execution_count": 31,
     "metadata": {},
     "output_type": "execute_result"
    }
   ],
   "execution_count": 31
  },
  {
   "metadata": {
    "ExecuteTime": {
     "end_time": "2025-02-18T07:02:00.618736Z",
     "start_time": "2025-02-18T07:02:00.614391Z"
    }
   },
   "cell_type": "code",
   "source": [
    "#2\n",
    "sum(i)"
   ],
   "id": "29fbb85eadecf84b",
   "outputs": [
    {
     "data": {
      "text/plain": [
       "32"
      ]
     },
     "execution_count": 32,
     "metadata": {},
     "output_type": "execute_result"
    }
   ],
   "execution_count": 32
  },
  {
   "metadata": {
    "ExecuteTime": {
     "end_time": "2025-02-18T07:02:00.632060Z",
     "start_time": "2025-02-18T07:02:00.627335Z"
    }
   },
   "cell_type": "code",
   "source": [
    "#3\n",
    "max(i)"
   ],
   "id": "1f0db159851cbd00",
   "outputs": [
    {
     "data": {
      "text/plain": [
       "7"
      ]
     },
     "execution_count": 33,
     "metadata": {},
     "output_type": "execute_result"
    }
   ],
   "execution_count": 33
  },
  {
   "metadata": {
    "ExecuteTime": {
     "end_time": "2025-02-18T07:02:00.641519Z",
     "start_time": "2025-02-18T07:02:00.632060Z"
    }
   },
   "cell_type": "code",
   "source": [
    "#4\n",
    "min(i)\n"
   ],
   "id": "454b956c110d551f",
   "outputs": [
    {
     "data": {
      "text/plain": [
       "1"
      ]
     },
     "execution_count": 34,
     "metadata": {},
     "output_type": "execute_result"
    }
   ],
   "execution_count": 34
  },
  {
   "metadata": {
    "ExecuteTime": {
     "end_time": "2025-02-18T07:02:00.660261Z",
     "start_time": "2025-02-18T07:02:00.648851Z"
    }
   },
   "cell_type": "code",
   "source": [
    "#5\n",
    "print(j in i)\n",
    "print (9 in i)"
   ],
   "id": "28657ae09737561f",
   "outputs": [
    {
     "name": "stdout",
     "output_type": "stream",
     "text": [
      "True\n",
      "False\n"
     ]
    }
   ],
   "execution_count": 35
  },
  {
   "metadata": {
    "ExecuteTime": {
     "end_time": "2025-02-18T07:02:00.674707Z",
     "start_time": "2025-02-18T07:02:00.666116Z"
    }
   },
   "cell_type": "code",
   "source": [
    "#6\n",
    "print(i[0])"
   ],
   "id": "daa5404f44216543",
   "outputs": [
    {
     "name": "stdout",
     "output_type": "stream",
     "text": [
      "1\n"
     ]
    }
   ],
   "execution_count": 36
  },
  {
   "metadata": {
    "ExecuteTime": {
     "end_time": "2025-02-18T07:02:00.777611Z",
     "start_time": "2025-02-18T07:02:00.767081Z"
    }
   },
   "cell_type": "code",
   "source": [
    "#7\n",
    "print(i[-1])"
   ],
   "id": "212cb0b4d2cfe79b",
   "outputs": [
    {
     "name": "stdout",
     "output_type": "stream",
     "text": [
      "7\n"
     ]
    }
   ],
   "execution_count": 37
  },
  {
   "metadata": {
    "ExecuteTime": {
     "end_time": "2025-02-18T07:02:02.850996Z",
     "start_time": "2025-02-18T07:02:02.844497Z"
    }
   },
   "cell_type": "code",
   "source": [
    "#8\n",
    "print (i[0:3])\n"
   ],
   "id": "37beed123d6bb10",
   "outputs": [
    {
     "name": "stdout",
     "output_type": "stream",
     "text": [
      "[1, 2, 3]\n"
     ]
    }
   ],
   "execution_count": 43
  },
  {
   "metadata": {
    "ExecuteTime": {
     "end_time": "2025-02-18T07:02:00.896231Z",
     "start_time": "2025-02-18T07:02:00.892016Z"
    }
   },
   "cell_type": "code",
   "source": [
    "#9\n",
    "reverse_i= list(reversed(i))\n",
    "print (reverse_i)"
   ],
   "id": "d7bf513eb134103b",
   "outputs": [
    {
     "name": "stdout",
     "output_type": "stream",
     "text": [
      "[7, 6, 2, 4, 3, 4, 3, 2, 1]\n"
     ]
    }
   ],
   "execution_count": 39
  },
  {
   "metadata": {
    "ExecuteTime": {
     "end_time": "2025-02-18T07:02:00.913741Z",
     "start_time": "2025-02-18T07:02:00.909872Z"
    }
   },
   "cell_type": "code",
   "source": [
    "#10\n",
    "sorted_i= list(sorted(i))\n",
    "print (sorted_i)"
   ],
   "id": "a3ac10561f4d9b1c",
   "outputs": [
    {
     "name": "stdout",
     "output_type": "stream",
     "text": [
      "[1, 2, 2, 3, 3, 4, 4, 6, 7]\n"
     ]
    }
   ],
   "execution_count": 40
  },
  {
   "metadata": {
    "ExecuteTime": {
     "end_time": "2025-02-18T07:02:00.926058Z",
     "start_time": "2025-02-18T07:02:00.923393Z"
    }
   },
   "cell_type": "code",
   "source": [
    "#11\n",
    "(r_duplicates) = list(set(i))\n",
    "print(r_duplicates)"
   ],
   "id": "72fadae472b6ff43",
   "outputs": [
    {
     "name": "stdout",
     "output_type": "stream",
     "text": [
      "[1, 2, 3, 4, 6, 7]\n"
     ]
    }
   ],
   "execution_count": 41
  },
  {
   "metadata": {
    "ExecuteTime": {
     "end_time": "2025-02-18T07:03:32.673003Z",
     "start_time": "2025-02-18T07:03:32.668197Z"
    }
   },
   "cell_type": "code",
   "source": [
    "#12\n",
    "element = 9\n",
    "index = 2\n",
    "i.insert(index, element)\n",
    "print(i)"
   ],
   "id": "e9da79fdc1b1658",
   "outputs": [
    {
     "name": "stdout",
     "output_type": "stream",
     "text": [
      "[1, 2, 9, 6, 3, 4, 3, 4, 2, 6, 7]\n"
     ]
    }
   ],
   "execution_count": 45
  },
  {
   "metadata": {
    "ExecuteTime": {
     "end_time": "2025-02-18T07:06:58.624147Z",
     "start_time": "2025-02-18T07:06:58.615043Z"
    }
   },
   "cell_type": "code",
   "source": [
    "#13\n",
    "def index_of_element (i, element):\n",
    " return  i.index(element) if element in i else -1\n",
    "print (index_of_element(i, 9))"
   ],
   "id": "117f3298da4b8eb7",
   "outputs": [
    {
     "name": "stdout",
     "output_type": "stream",
     "text": [
      "2\n"
     ]
    }
   ],
   "execution_count": 50
  },
  {
   "metadata": {
    "ExecuteTime": {
     "end_time": "2025-02-18T07:07:31.494488Z",
     "start_time": "2025-02-18T07:07:31.488872Z"
    }
   },
   "cell_type": "code",
   "source": [
    "#14\n",
    "bool(i)"
   ],
   "id": "3312a349701efdbb",
   "outputs": [
    {
     "data": {
      "text/plain": [
       "True"
      ]
     },
     "execution_count": 52,
     "metadata": {},
     "output_type": "execute_result"
    }
   ],
   "execution_count": 52
  },
  {
   "metadata": {
    "ExecuteTime": {
     "end_time": "2025-02-18T07:14:19.434815Z",
     "start_time": "2025-02-18T07:14:19.429705Z"
    }
   },
   "cell_type": "code",
   "source": [
    "#15\n",
    "def count_even(i):\n",
    "    return len([x for x in i if x % 2 == 0])\n",
    "print (count_even(i))\n",
    "\n"
   ],
   "id": "4490122e0f05fbc5",
   "outputs": [
    {
     "name": "stdout",
     "output_type": "stream",
     "text": [
      "6\n"
     ]
    }
   ],
   "execution_count": 60
  },
  {
   "metadata": {
    "ExecuteTime": {
     "end_time": "2025-02-18T07:15:10.806663Z",
     "start_time": "2025-02-18T07:15:10.803385Z"
    }
   },
   "cell_type": "code",
   "source": [
    "#16\n",
    "def count_odd(i):\n",
    "    return len([x for x in i if x % 2 != 0])\n",
    "print (count_odd(i))\n"
   ],
   "id": "d7a0bb96f6db5628",
   "outputs": [
    {
     "name": "stdout",
     "output_type": "stream",
     "text": [
      "5\n"
     ]
    }
   ],
   "execution_count": 62
  },
  {
   "metadata": {
    "ExecuteTime": {
     "end_time": "2025-02-18T07:18:30.833433Z",
     "start_time": "2025-02-18T07:18:30.829107Z"
    }
   },
   "cell_type": "code",
   "source": [
    "#17\n",
    "my_list = [1,2,3,4,5,6,7,8,9]\n",
    "my_list.extend(i)\n",
    "new_list = my_list\n",
    "print (new_list)"
   ],
   "id": "cc3b4d30c79362ff",
   "outputs": [
    {
     "name": "stdout",
     "output_type": "stream",
     "text": [
      "[1, 2, 3, 4, 5, 6, 7, 8, 9, 1, 2, 9, 6, 3, 4, 3, 4, 2, 6, 7]\n"
     ]
    }
   ],
   "execution_count": 69
  },
  {
   "metadata": {
    "ExecuteTime": {
     "end_time": "2025-02-18T07:20:32.210442Z",
     "start_time": "2025-02-18T07:20:32.205126Z"
    }
   },
   "cell_type": "code",
   "source": [
    "#18\n",
    "def find_sublist(i, sublst):\n",
    "    return sublst in i\n",
    "print (find_sublist(i, my_list))"
   ],
   "id": "fa39e8af658cb33f",
   "outputs": [
    {
     "name": "stdout",
     "output_type": "stream",
     "text": [
      "False\n"
     ]
    }
   ],
   "execution_count": 71
  },
  {
   "metadata": {
    "ExecuteTime": {
     "end_time": "2025-02-18T07:23:45.516441Z",
     "start_time": "2025-02-18T07:23:45.507352Z"
    }
   },
   "cell_type": "code",
   "source": [
    "#19\n",
    "def replace_element(i, old, new):\n",
    "    if old in i:\n",
    "        i[i.index(old)] =new\n",
    "\n",
    "    return i\n",
    "print (replace_element(i, 4, 21))\n"
   ],
   "id": "f9e865ec985e82bb",
   "outputs": [
    {
     "name": "stdout",
     "output_type": "stream",
     "text": [
      "[1, 2, 9, 6, 3, 21, 3, 21, 2, 6, 7]\n"
     ]
    }
   ],
   "execution_count": 73
  },
  {
   "metadata": {
    "ExecuteTime": {
     "end_time": "2025-02-18T07:25:05.702945Z",
     "start_time": "2025-02-18T07:25:05.696160Z"
    }
   },
   "cell_type": "code",
   "source": [
    "#20\n",
    "print(sorted(list(set(i)))[-2])\n"
   ],
   "id": "6aa3661770bf4ff7",
   "outputs": [
    {
     "name": "stdout",
     "output_type": "stream",
     "text": [
      "9\n"
     ]
    }
   ],
   "execution_count": 75
  },
  {
   "metadata": {
    "ExecuteTime": {
     "end_time": "2025-02-18T07:25:25.008807Z",
     "start_time": "2025-02-18T07:25:25.001455Z"
    }
   },
   "cell_type": "code",
   "source": [
    "#21\n",
    "print(sorted(list(set(i)))[1])\n"
   ],
   "id": "796830b6db5d0178",
   "outputs": [
    {
     "name": "stdout",
     "output_type": "stream",
     "text": [
      "2\n"
     ]
    }
   ],
   "execution_count": 77
  },
  {
   "metadata": {
    "ExecuteTime": {
     "end_time": "2025-02-18T07:26:42.315812Z",
     "start_time": "2025-02-18T07:26:42.308796Z"
    }
   },
   "cell_type": "code",
   "source": [
    "#22\n",
    "only_even = []\n",
    "for num in i:\n",
    "    if num%2 == 0:\n",
    "        only_even.append(num)\n",
    "print(only_even)"
   ],
   "id": "31234bfe15323fa5",
   "outputs": [
    {
     "name": "stdout",
     "output_type": "stream",
     "text": [
      "[2, 6, 2, 6]\n"
     ]
    }
   ],
   "execution_count": 79
  },
  {
   "metadata": {
    "ExecuteTime": {
     "end_time": "2025-02-18T07:27:18.804047Z",
     "start_time": "2025-02-18T07:27:18.795824Z"
    }
   },
   "cell_type": "code",
   "source": [
    "#23\n",
    "only_odd = []\n",
    "for num in i:\n",
    "    if num%2 != 0:\n",
    "        only_odd.append(num)\n",
    "print(only_odd)"
   ],
   "id": "ae6dcd5779da607e",
   "outputs": [
    {
     "name": "stdout",
     "output_type": "stream",
     "text": [
      "[1, 9, 3, 21, 3, 21, 7]\n"
     ]
    }
   ],
   "execution_count": 81
  },
  {
   "metadata": {
    "ExecuteTime": {
     "end_time": "2025-02-18T07:28:32.573230Z",
     "start_time": "2025-02-18T07:28:32.564065Z"
    }
   },
   "cell_type": "code",
   "source": [
    "#24\n",
    "len(i)"
   ],
   "id": "71707b0e4b53ab1e",
   "outputs": [
    {
     "data": {
      "text/plain": [
       "11"
      ]
     },
     "execution_count": 83,
     "metadata": {},
     "output_type": "execute_result"
    }
   ],
   "execution_count": 83
  },
  {
   "metadata": {
    "ExecuteTime": {
     "end_time": "2025-02-18T07:29:27.933145Z",
     "start_time": "2025-02-18T07:29:27.925212Z"
    }
   },
   "cell_type": "code",
   "source": [
    "#25\n",
    "copy= i.copy()\n",
    "print (copy)"
   ],
   "id": "ec3dd2a7ca1be13f",
   "outputs": [
    {
     "name": "stdout",
     "output_type": "stream",
     "text": [
      "[1, 2, 9, 6, 3, 21, 3, 21, 2, 6, 7]\n"
     ]
    }
   ],
   "execution_count": 85
  },
  {
   "metadata": {
    "ExecuteTime": {
     "end_time": "2025-02-18T07:33:33.916715Z",
     "start_time": "2025-02-18T07:33:33.907913Z"
    }
   },
   "cell_type": "code",
   "source": [
    "#26\n",
    "if len(i)%2==0:\n",
    "     print(i[len(i)//2], i[(len(i)//2)-1])\n",
    "else:\n",
    "    print(i[len(i)//2])\n"
   ],
   "id": "7ef76e4e3c8c6701",
   "outputs": [
    {
     "name": "stdout",
     "output_type": "stream",
     "text": [
      "21\n"
     ]
    }
   ],
   "execution_count": 87
  },
  {
   "metadata": {
    "ExecuteTime": {
     "end_time": "2025-02-18T07:36:56.920751Z",
     "start_time": "2025-02-18T07:36:56.911190Z"
    }
   },
   "cell_type": "code",
   "source": [
    "#27\n",
    "max_of_sublist=max (i[0:11])\n",
    "print(max_of_sublist)\n",
    "\n",
    "\n"
   ],
   "id": "b6a3cd76c1dfb98b",
   "outputs": [
    {
     "name": "stdout",
     "output_type": "stream",
     "text": [
      "21\n"
     ]
    }
   ],
   "execution_count": 89
  },
  {
   "metadata": {
    "ExecuteTime": {
     "end_time": "2025-02-18T07:37:33.773756Z",
     "start_time": "2025-02-18T07:37:33.768875Z"
    }
   },
   "cell_type": "code",
   "source": [
    "#28\n",
    "min_of_sublist=min (i[0:11])\n",
    "print(min_of_sublist)"
   ],
   "id": "874afc94d2a31432",
   "outputs": [
    {
     "name": "stdout",
     "output_type": "stream",
     "text": [
      "1\n"
     ]
    }
   ],
   "execution_count": 91
  },
  {
   "metadata": {
    "ExecuteTime": {
     "end_time": "2025-02-18T07:40:15.994132Z",
     "start_time": "2025-02-18T07:40:15.990785Z"
    }
   },
   "cell_type": "code",
   "source": [
    "#29\n",
    "remove_element_by_index= 4\n",
    "if 0 < remove_element_by_index < len(i):\n",
    "    i.pop(remove_element_by_index)\n",
    "    print(i)"
   ],
   "id": "4e2c4838bd861fcf",
   "outputs": [
    {
     "name": "stdout",
     "output_type": "stream",
     "text": [
      "[1, 2, 9, 6, 3, 21, 2, 6, 7]\n"
     ]
    }
   ],
   "execution_count": 93
  },
  {
   "metadata": {
    "ExecuteTime": {
     "end_time": "2025-02-18T07:44:21.088363Z",
     "start_time": "2025-02-18T07:44:21.083941Z"
    }
   },
   "cell_type": "code",
   "source": [
    "#30\n",
    "(i.sort())\n",
    "print(i)\n"
   ],
   "id": "47931b9ff0386d6e",
   "outputs": [
    {
     "name": "stdout",
     "output_type": "stream",
     "text": [
      "[1, 2, 2, 3, 6, 6, 7, 9, 21]\n"
     ]
    }
   ],
   "execution_count": 111
  },
  {
   "metadata": {
    "ExecuteTime": {
     "end_time": "2025-02-18T07:45:11.060677Z",
     "start_time": "2025-02-18T07:45:11.055427Z"
    }
   },
   "cell_type": "code",
   "source": [
    "#31\n",
    "repeat = i*2\n",
    "print(repeat)"
   ],
   "id": "5188764f02484572",
   "outputs": [
    {
     "name": "stdout",
     "output_type": "stream",
     "text": [
      "[1, 2, 2, 3, 6, 6, 7, 9, 21, 1, 2, 2, 3, 6, 6, 7, 9, 21]\n"
     ]
    }
   ],
   "execution_count": 113
  },
  {
   "metadata": {
    "ExecuteTime": {
     "end_time": "2025-02-18T07:49:26.904395Z",
     "start_time": "2025-02-18T07:49:26.896463Z"
    }
   },
   "cell_type": "code",
   "source": [
    "#32\n",
    "new_list== (i+repeat)\n",
    "new_list.extend(i+repeat)\n",
    "print(new_list)\n",
    "\n"
   ],
   "id": "a96d7510bcd32758",
   "outputs": [
    {
     "name": "stdout",
     "output_type": "stream",
     "text": [
      "[1, 2, 3, 4, 5, 6, 7, 8, 9, 1, 2, 9, 6, 3, 4, 3, 4, 2, 6, 7, 1, 2, 2, 3, 6, 6, 7, 9, 21, 1, 2, 2, 3, 6, 6, 7, 9, 21, 1, 2, 2, 3, 6, 6, 7, 9, 21, 1, 2, 2, 3, 6, 6, 7, 9, 21, 1, 2, 2, 3, 6, 6, 7, 9, 21, 1, 2, 2, 3, 6, 6, 7, 9, 21]\n"
     ]
    }
   ],
   "execution_count": 119
  },
  {
   "metadata": {
    "ExecuteTime": {
     "end_time": "2025-02-18T08:11:00.458145Z",
     "start_time": "2025-02-18T08:11:00.454043Z"
    }
   },
   "cell_type": "code",
   "source": [
    "#33\n",
    "i, elem = [1, 2, 3, 2, 4], 2\n",
    "indices = [i for i, x in enumerate(i) if x == elem]\n",
    "print(indices)\n"
   ],
   "id": "e1b7f1c989c3b3f1",
   "outputs": [
    {
     "name": "stdout",
     "output_type": "stream",
     "text": [
      "[1, 3]\n"
     ]
    }
   ],
   "execution_count": 142
  },
  {
   "metadata": {
    "ExecuteTime": {
     "end_time": "2025-02-18T08:11:31.438255Z",
     "start_time": "2025-02-18T08:11:31.433983Z"
    }
   },
   "cell_type": "code",
   "source": [
    "#34\n",
    "n=1\n",
    "rotated = i[-n:] + i[:-n]\n",
    "print(rotated)"
   ],
   "id": "9abc8dd01e9ba35a",
   "outputs": [
    {
     "name": "stdout",
     "output_type": "stream",
     "text": [
      "[4, 1, 2, 3, 2]\n"
     ]
    }
   ],
   "execution_count": 145
  },
  {
   "metadata": {
    "ExecuteTime": {
     "end_time": "2025-02-18T08:13:21.868887Z",
     "start_time": "2025-02-18T08:13:21.863480Z"
    }
   },
   "cell_type": "code",
   "source": [
    "#35\n",
    "start, end = 1, 10\n",
    "range_list = list(range(start, end + 1))\n",
    "print(range_list)\n"
   ],
   "id": "17ad2a3c68ae0b84",
   "outputs": [
    {
     "name": "stdout",
     "output_type": "stream",
     "text": [
      "[1, 2, 3, 4, 5, 6, 7, 8, 9, 10]\n"
     ]
    }
   ],
   "execution_count": 147
  },
  {
   "metadata": {
    "ExecuteTime": {
     "end_time": "2025-02-18T08:13:46.469317Z",
     "start_time": "2025-02-18T08:13:46.459896Z"
    }
   },
   "cell_type": "code",
   "source": [
    "#36\n",
    "sum(range_list)"
   ],
   "id": "364a6eafd290c4c7",
   "outputs": [
    {
     "data": {
      "text/plain": [
       "55"
      ]
     },
     "execution_count": 149,
     "metadata": {},
     "output_type": "execute_result"
    }
   ],
   "execution_count": 149
  },
  {
   "metadata": {
    "ExecuteTime": {
     "end_time": "2025-02-18T08:18:29.948061Z",
     "start_time": "2025-02-18T08:18:29.941742Z"
    }
   },
   "cell_type": "code",
   "source": [
    "#37\n",
    "neg_sum = sum(x for x in range_list if x < 0)\n",
    "print(neg_sum)"
   ],
   "id": "76b46a0d3b912ceb",
   "outputs": [
    {
     "name": "stdout",
     "output_type": "stream",
     "text": [
      "0\n"
     ]
    }
   ],
   "execution_count": 152
  },
  {
   "metadata": {
    "ExecuteTime": {
     "end_time": "2025-02-18T08:20:15.037601Z",
     "start_time": "2025-02-18T08:20:15.030426Z"
    }
   },
   "cell_type": "code",
   "source": [
    "#38\n",
    "is_palindrome = i ==  range_list[::-1]\n",
    "print(is_palindrome)"
   ],
   "id": "5fbde77df69bf2e",
   "outputs": [
    {
     "name": "stdout",
     "output_type": "stream",
     "text": [
      "False\n"
     ]
    }
   ],
   "execution_count": 154
  },
  {
   "metadata": {
    "ExecuteTime": {
     "end_time": "2025-02-18T08:26:06.737367Z",
     "start_time": "2025-02-18T08:26:06.729914Z"
    }
   },
   "cell_type": "code",
   "source": [
    "#39\n",
    "a= []\n",
    "a1=i[0:4]\n",
    "a4=i[5:6]\n",
    "a.append(a1)\n",
    "a.append(a4)\n",
    "\n",
    "\n",
    "print(a)\n"
   ],
   "id": "a15a152dcac18de9",
   "outputs": [
    {
     "name": "stdout",
     "output_type": "stream",
     "text": [
      "[[1, 2, 3, 2], []]\n"
     ]
    }
   ],
   "execution_count": 165
  },
  {
   "metadata": {
    "ExecuteTime": {
     "end_time": "2025-02-18T08:27:58.008449Z",
     "start_time": "2025-02-18T08:27:57.999438Z"
    }
   },
   "cell_type": "code",
   "source": [
    "#40\n",
    "i = [1, 2, 2, 3, 4, 4]\n",
    "unique = []\n",
    "[unique.append(i) for x in i if x not in unique]\n",
    "print(unique)"
   ],
   "id": "c76f8733043a3e9e",
   "outputs": [
    {
     "name": "stdout",
     "output_type": "stream",
     "text": [
      "[[1, 2, 2, 3, 4, 4], [1, 2, 2, 3, 4, 4], [1, 2, 2, 3, 4, 4], [1, 2, 2, 3, 4, 4], [1, 2, 2, 3, 4, 4], [1, 2, 2, 3, 4, 4]]\n"
     ]
    }
   ],
   "execution_count": 172
  },
  {
   "metadata": {},
   "cell_type": "markdown",
   "source": "# TUPLE TASKS",
   "id": "35a4a0c4fed02b25"
  },
  {
   "metadata": {
    "ExecuteTime": {
     "end_time": "2025-02-18T08:57:25.362322Z",
     "start_time": "2025-02-18T08:57:25.358919Z"
    }
   },
   "cell_type": "code",
   "source": [
    "#1\n",
    "my_tuple = (1,2,3,4,5,6,7,8,9)\n",
    "print(my_tuple)"
   ],
   "id": "3083e2618d1ee526",
   "outputs": [
    {
     "name": "stdout",
     "output_type": "stream",
     "text": [
      "(1, 2, 3, 4, 5, 6, 7, 8, 9)\n"
     ]
    }
   ],
   "execution_count": 174
  },
  {
   "metadata": {
    "ExecuteTime": {
     "end_time": "2025-02-18T08:57:36.981837Z",
     "start_time": "2025-02-18T08:57:36.976141Z"
    }
   },
   "cell_type": "code",
   "source": [
    "#2\n",
    "max(my_tuple)"
   ],
   "id": "1a2040a81cce2717",
   "outputs": [
    {
     "data": {
      "text/plain": [
       "9"
      ]
     },
     "execution_count": 175,
     "metadata": {},
     "output_type": "execute_result"
    }
   ],
   "execution_count": 175
  },
  {
   "metadata": {
    "ExecuteTime": {
     "end_time": "2025-02-18T08:57:44.986606Z",
     "start_time": "2025-02-18T08:57:44.979922Z"
    }
   },
   "cell_type": "code",
   "source": [
    "#3\n",
    "min(my_tuple)\n"
   ],
   "id": "467683316b30afa5",
   "outputs": [
    {
     "data": {
      "text/plain": [
       "1"
      ]
     },
     "execution_count": 176,
     "metadata": {},
     "output_type": "execute_result"
    }
   ],
   "execution_count": 176
  },
  {
   "metadata": {
    "ExecuteTime": {
     "end_time": "2025-02-18T08:57:59.113823Z",
     "start_time": "2025-02-18T08:57:59.107884Z"
    }
   },
   "cell_type": "code",
   "source": [
    "#4\n",
    "10 in my_tuple"
   ],
   "id": "d1d8d12984bfedb7",
   "outputs": [
    {
     "data": {
      "text/plain": [
       "False"
      ]
     },
     "execution_count": 177,
     "metadata": {},
     "output_type": "execute_result"
    }
   ],
   "execution_count": 177
  },
  {
   "metadata": {
    "ExecuteTime": {
     "end_time": "2025-02-18T08:59:26.353210Z",
     "start_time": "2025-02-18T08:59:26.341111Z"
    }
   },
   "cell_type": "code",
   "source": [
    "#5\n",
    "print(my_tuple[0])"
   ],
   "id": "8fa408fa73e64dc6",
   "outputs": [
    {
     "name": "stdout",
     "output_type": "stream",
     "text": [
      "1\n"
     ]
    }
   ],
   "execution_count": 181
  },
  {
   "metadata": {
    "ExecuteTime": {
     "end_time": "2025-02-18T08:59:34.682142Z",
     "start_time": "2025-02-18T08:59:34.675845Z"
    }
   },
   "cell_type": "code",
   "source": [
    "#6\n",
    "print(my_tuple[-1])"
   ],
   "id": "5a63c5a4a8ab9125",
   "outputs": [
    {
     "name": "stdout",
     "output_type": "stream",
     "text": [
      "9\n"
     ]
    }
   ],
   "execution_count": 183
  },
  {
   "metadata": {
    "ExecuteTime": {
     "end_time": "2025-02-18T08:59:44.302844Z",
     "start_time": "2025-02-18T08:59:44.297512Z"
    }
   },
   "cell_type": "code",
   "source": [
    "#7\n",
    "len(my_tuple)\n"
   ],
   "id": "ed28f8ac22ce53a6",
   "outputs": [
    {
     "data": {
      "text/plain": [
       "9"
      ]
     },
     "execution_count": 184,
     "metadata": {},
     "output_type": "execute_result"
    }
   ],
   "execution_count": 184
  },
  {
   "metadata": {
    "ExecuteTime": {
     "end_time": "2025-02-18T09:00:29.160499Z",
     "start_time": "2025-02-18T09:00:29.155277Z"
    }
   },
   "cell_type": "code",
   "source": [
    "#8\n",
    "new_tuple = my_tuple[0:5]\n",
    "print(new_tuple)"
   ],
   "id": "6d1b3e5026e6fb40",
   "outputs": [
    {
     "name": "stdout",
     "output_type": "stream",
     "text": [
      "(1, 2, 3, 4, 5)\n"
     ]
    }
   ],
   "execution_count": 185
  },
  {
   "metadata": {
    "ExecuteTime": {
     "end_time": "2025-02-18T09:00:58.499423Z",
     "start_time": "2025-02-18T09:00:58.496149Z"
    }
   },
   "cell_type": "code",
   "source": [
    "#9\n",
    "combine_tuple = my_tuple + new_tuple\n",
    "print(combine_tuple)"
   ],
   "id": "5f0a3f24bd2804b7",
   "outputs": [
    {
     "name": "stdout",
     "output_type": "stream",
     "text": [
      "(1, 2, 3, 4, 5, 6, 7, 8, 9, 1, 2, 3, 4, 5)\n"
     ]
    }
   ],
   "execution_count": 186
  },
  {
   "metadata": {
    "ExecuteTime": {
     "end_time": "2025-02-18T09:02:05.186438Z",
     "start_time": "2025-02-18T09:02:05.179901Z"
    }
   },
   "cell_type": "code",
   "source": [
    "#10\n",
    " bool (my_tuple)\n",
    "\n",
    "\n"
   ],
   "id": "ae601613ff1b2f2f",
   "outputs": [
    {
     "data": {
      "text/plain": [
       "True"
      ]
     },
     "execution_count": 187,
     "metadata": {},
     "output_type": "execute_result"
    }
   ],
   "execution_count": 187
  },
  {
   "metadata": {
    "ExecuteTime": {
     "end_time": "2025-02-18T09:06:37.440958Z",
     "start_time": "2025-02-18T09:06:37.433041Z"
    }
   },
   "cell_type": "code",
   "source": [
    "#11\n",
    "indexes_t = []\n",
    "valueeT = 7\n",
    "for i2 in range(len(my_tuple)):\n",
    "    if my_tuple[i2] == valueeT:\n",
    "        indexes_t.append(i2)\n",
    "\n",
    "print(indexes_t)"
   ],
   "id": "d6075a2787e56b16",
   "outputs": [
    {
     "name": "stdout",
     "output_type": "stream",
     "text": [
      "[6]\n"
     ]
    }
   ],
   "execution_count": 190
  },
  {
   "metadata": {
    "ExecuteTime": {
     "end_time": "2025-02-18T09:07:36.559264Z",
     "start_time": "2025-02-18T09:07:36.553661Z"
    }
   },
   "cell_type": "code",
   "source": [
    "#12\n",
    "print(sorted(list(set(my_tuple)))[-2])"
   ],
   "id": "c60d31e2cc7ce580",
   "outputs": [
    {
     "name": "stdout",
     "output_type": "stream",
     "text": [
      "8\n"
     ]
    }
   ],
   "execution_count": 191
  },
  {
   "metadata": {
    "ExecuteTime": {
     "end_time": "2025-02-18T09:08:01.411875Z",
     "start_time": "2025-02-18T09:08:01.407919Z"
    }
   },
   "cell_type": "code",
   "source": [
    "#13\n",
    "print(sorted(list(set(my_tuple)))[1])"
   ],
   "id": "dfd0ea0d371c6bc2",
   "outputs": [
    {
     "name": "stdout",
     "output_type": "stream",
     "text": [
      "2\n"
     ]
    }
   ],
   "execution_count": 194
  },
  {
   "metadata": {
    "ExecuteTime": {
     "end_time": "2025-02-18T09:09:55.685210Z",
     "start_time": "2025-02-18T09:09:55.679460Z"
    }
   },
   "cell_type": "code",
   "source": [
    "#14\n",
    "one_tuple = (1)\n",
    "print (one_tuple)"
   ],
   "id": "6a85a4aca001808a",
   "outputs": [
    {
     "name": "stdout",
     "output_type": "stream",
     "text": [
      "1\n"
     ]
    }
   ],
   "execution_count": 196
  },
  {
   "metadata": {
    "ExecuteTime": {
     "end_time": "2025-02-18T09:14:34.675156Z",
     "start_time": "2025-02-18T09:14:34.665863Z"
    }
   },
   "cell_type": "code",
   "source": [
    "#15\n",
    "tuple(my_tuple)\n",
    "copy=tuple(my_tuple)\n",
    "print(copy)"
   ],
   "id": "8d5c5d86e97af81f",
   "outputs": [
    {
     "name": "stdout",
     "output_type": "stream",
     "text": [
      "(1, 2, 3, 4, 5, 6, 7, 8, 9)\n"
     ]
    }
   ],
   "execution_count": 205
  },
  {
   "metadata": {
    "ExecuteTime": {
     "end_time": "2025-02-18T09:14:44.014770Z",
     "start_time": "2025-02-18T09:14:44.007240Z"
    }
   },
   "cell_type": "code",
   "source": [
    "#16\n",
    "bool (tuple(sorted(my_tuple)) == copy)\n",
    "\n"
   ],
   "id": "902557c249a4b0d1",
   "outputs": [
    {
     "data": {
      "text/plain": [
       "True"
      ]
     },
     "execution_count": 206,
     "metadata": {},
     "output_type": "execute_result"
    }
   ],
   "execution_count": 206
  },
  {
   "metadata": {
    "ExecuteTime": {
     "end_time": "2025-02-18T09:15:13.958325Z",
     "start_time": "2025-02-18T09:15:13.951803Z"
    }
   },
   "cell_type": "code",
   "source": [
    "#17\n",
    "max(my_tuple[0:4])"
   ],
   "id": "593a17b8ad635d0",
   "outputs": [
    {
     "data": {
      "text/plain": [
       "4"
      ]
     },
     "execution_count": 207,
     "metadata": {},
     "output_type": "execute_result"
    }
   ],
   "execution_count": 207
  },
  {
   "metadata": {
    "ExecuteTime": {
     "end_time": "2025-02-18T09:15:18.578442Z",
     "start_time": "2025-02-18T09:15:18.572946Z"
    }
   },
   "cell_type": "code",
   "source": [
    "#18\n",
    "min(my_tuple[0:4])"
   ],
   "id": "e1db86a46bbe37f1",
   "outputs": [
    {
     "data": {
      "text/plain": [
       "1"
      ]
     },
     "execution_count": 208,
     "metadata": {},
     "output_type": "execute_result"
    }
   ],
   "execution_count": 208
  },
  {
   "metadata": {
    "ExecuteTime": {
     "end_time": "2025-02-18T09:17:34.307366Z",
     "start_time": "2025-02-18T09:17:34.300162Z"
    }
   },
   "cell_type": "code",
   "source": [
    "#19\n",
    "remove_elt = list (my_tuple)\n",
    "remove_elt.remove(9)\n",
    "print(remove_elt)"
   ],
   "id": "fcdc9e06358d9294",
   "outputs": [
    {
     "name": "stdout",
     "output_type": "stream",
     "text": [
      "[1, 2, 3, 4, 5, 6, 7, 8]\n"
     ]
    }
   ],
   "execution_count": 212
  },
  {
   "metadata": {
    "ExecuteTime": {
     "end_time": "2025-02-18T09:20:02.550469Z",
     "start_time": "2025-02-18T09:20:02.546986Z"
    }
   },
   "cell_type": "code",
   "source": [
    "#20\n",
    "t1= list (my_tuple [0:3])\n",
    "t2= list (my_tuple [4:7])\n",
    "t3= (t1 + t2)\n",
    "print(t3)"
   ],
   "id": "75a20512d6b4a3cd",
   "outputs": [
    {
     "name": "stdout",
     "output_type": "stream",
     "text": [
      "[1, 2, 3, 5, 6, 7]\n"
     ]
    }
   ],
   "execution_count": 216
  },
  {
   "metadata": {
    "ExecuteTime": {
     "end_time": "2025-02-18T09:20:33.044642Z",
     "start_time": "2025-02-18T09:20:33.039189Z"
    }
   },
   "cell_type": "code",
   "source": [
    "#21\n",
    "n_t= my_tuple * 2\n",
    "print(n_t)"
   ],
   "id": "298866045d279a6f",
   "outputs": [
    {
     "name": "stdout",
     "output_type": "stream",
     "text": [
      "(1, 2, 3, 4, 5, 6, 7, 8, 9, 1, 2, 3, 4, 5, 6, 7, 8, 9)\n"
     ]
    }
   ],
   "execution_count": 217
  },
  {
   "metadata": {
    "ExecuteTime": {
     "end_time": "2025-02-18T09:22:09.931949Z",
     "start_time": "2025-02-18T09:22:09.922830Z"
    }
   },
   "cell_type": "code",
   "source": [
    "#22\n",
    "tuple(range(10))\n"
   ],
   "id": "6761e46d28f04046",
   "outputs": [
    {
     "data": {
      "text/plain": [
       "(0, 1, 2, 3, 4, 5, 6, 7, 8, 9)"
      ]
     },
     "execution_count": 219,
     "metadata": {},
     "output_type": "execute_result"
    }
   ],
   "execution_count": 219
  },
  {
   "metadata": {
    "ExecuteTime": {
     "end_time": "2025-02-18T11:37:04.175558Z",
     "start_time": "2025-02-18T11:37:04.168559Z"
    }
   },
   "cell_type": "code",
   "source": [
    "#23\n",
    "my_tuple ==  my_tuple [::-1]"
   ],
   "id": "f104d7f517af38ce",
   "outputs": [
    {
     "data": {
      "text/plain": [
       "False"
      ]
     },
     "execution_count": 231,
     "metadata": {},
     "output_type": "execute_result"
    }
   ],
   "execution_count": 231
  },
  {
   "metadata": {
    "ExecuteTime": {
     "end_time": "2025-02-18T11:36:58.855157Z",
     "start_time": "2025-02-18T11:36:58.850820Z"
    }
   },
   "cell_type": "code",
   "source": [
    "#24\n",
    "unique = tuple((my_tuple))\n",
    "print(unique)"
   ],
   "id": "bc015b79b4dc8bb1",
   "outputs": [
    {
     "name": "stdout",
     "output_type": "stream",
     "text": [
      "(1, 2, 3, 4, 5, 6, 7, 8, 9)\n"
     ]
    }
   ],
   "execution_count": 229
  },
  {
   "metadata": {},
   "cell_type": "markdown",
   "source": "### SET\n",
   "id": "272bcaf0fa218314"
  },
  {
   "metadata": {
    "ExecuteTime": {
     "end_time": "2025-02-18T11:41:03.396183Z",
     "start_time": "2025-02-18T11:41:03.388482Z"
    }
   },
   "cell_type": "code",
   "source": [
    "#1\n",
    "set1 = {1,2,3}\n",
    "set2 = {4,5,6,7}\n",
    "print(set1 | set2)"
   ],
   "id": "33d9016edecac4d2",
   "outputs": [
    {
     "name": "stdout",
     "output_type": "stream",
     "text": [
      "{1, 2, 3, 4, 5, 6, 7}\n"
     ]
    }
   ],
   "execution_count": 232
  },
  {
   "metadata": {
    "ExecuteTime": {
     "end_time": "2025-02-18T11:43:03.041199Z",
     "start_time": "2025-02-18T11:43:03.027697Z"
    }
   },
   "cell_type": "code",
   "source": [
    "#2\n",
    "set1.intersection(set2)"
   ],
   "id": "4042c52253b26b87",
   "outputs": [
    {
     "data": {
      "text/plain": [
       "set()"
      ]
     },
     "execution_count": 237,
     "metadata": {},
     "output_type": "execute_result"
    }
   ],
   "execution_count": 237
  },
  {
   "metadata": {
    "ExecuteTime": {
     "end_time": "2025-02-18T11:43:48.926942Z",
     "start_time": "2025-02-18T11:43:48.915770Z"
    }
   },
   "cell_type": "code",
   "source": [
    "#3\n",
    "set1.difference(set2)"
   ],
   "id": "626d134c5406fdc8",
   "outputs": [
    {
     "data": {
      "text/plain": [
       "{1, 2, 3}"
      ]
     },
     "execution_count": 238,
     "metadata": {},
     "output_type": "execute_result"
    }
   ],
   "execution_count": 238
  },
  {
   "metadata": {
    "ExecuteTime": {
     "end_time": "2025-02-18T11:47:36.277561Z",
     "start_time": "2025-02-18T11:47:36.266960Z"
    }
   },
   "cell_type": "code",
   "source": [
    "#4\n",
    "if set1 == set2:\n",
    "    print(\"true\")\n",
    "else:\n",
    "    print(\"false\")"
   ],
   "id": "731eb4ed05dca18b",
   "outputs": [
    {
     "name": "stdout",
     "output_type": "stream",
     "text": [
      "false\n"
     ]
    }
   ],
   "execution_count": 242
  },
  {
   "metadata": {
    "ExecuteTime": {
     "end_time": "2025-02-18T11:48:51.883266Z",
     "start_time": "2025-02-18T11:48:51.870671Z"
    }
   },
   "cell_type": "code",
   "source": [
    "#5\n",
    "if 3 in set1:\n",
    "    print(\"EXISTS\")\n",
    "else:\n",
    "    print(\"NOT EXISTS\")"
   ],
   "id": "4af08793505f469a",
   "outputs": [
    {
     "name": "stdout",
     "output_type": "stream",
     "text": [
      "EXISTS\n"
     ]
    }
   ],
   "execution_count": 245
  },
  {
   "metadata": {
    "ExecuteTime": {
     "end_time": "2025-02-18T11:49:25.285722Z",
     "start_time": "2025-02-18T11:49:25.273660Z"
    }
   },
   "cell_type": "code",
   "source": [
    "#6\n",
    "len(set1)"
   ],
   "id": "b1bde4e7125f1e3e",
   "outputs": [
    {
     "data": {
      "text/plain": [
       "3"
      ]
     },
     "execution_count": 247,
     "metadata": {},
     "output_type": "execute_result"
    }
   ],
   "execution_count": 247
  },
  {
   "metadata": {
    "ExecuteTime": {
     "end_time": "2025-02-18T11:52:30.132099Z",
     "start_time": "2025-02-18T11:52:30.121801Z"
    }
   },
   "cell_type": "code",
   "source": [
    "#7\n",
    "list=[1,2,3,4,5,6,7,8,9,10,9,9]\n",
    "print(set(list))"
   ],
   "id": "835d0c6d2c7d710f",
   "outputs": [
    {
     "name": "stdout",
     "output_type": "stream",
     "text": [
      "{1, 2, 3, 4, 5, 6, 7, 8, 9, 10}\n"
     ]
    }
   ],
   "execution_count": 251
  },
  {
   "metadata": {
    "ExecuteTime": {
     "end_time": "2025-02-18T11:53:58.271974Z",
     "start_time": "2025-02-18T11:53:58.262922Z"
    }
   },
   "cell_type": "code",
   "source": [
    "#8\n",
    "if 3 in set1:\n",
    "    set1.remove(3)\n",
    "    print(set1)"
   ],
   "id": "21fd8577adf5dfe4",
   "outputs": [
    {
     "name": "stdout",
     "output_type": "stream",
     "text": [
      "{1, 2}\n"
     ]
    }
   ],
   "execution_count": 252
  },
  {
   "metadata": {
    "ExecuteTime": {
     "end_time": "2025-02-18T11:55:49.907852Z",
     "start_time": "2025-02-18T11:55:49.902854Z"
    }
   },
   "cell_type": "code",
   "source": [
    "#9\n",
    "set1.clear()"
   ],
   "id": "e824e5b39a49865",
   "outputs": [],
   "execution_count": 253
  },
  {
   "metadata": {
    "ExecuteTime": {
     "end_time": "2025-02-18T11:56:52.636643Z",
     "start_time": "2025-02-18T11:56:52.615071Z"
    }
   },
   "cell_type": "code",
   "source": [
    "#10\n",
    "bool(set1)"
   ],
   "id": "2c12bb2708ac7c96",
   "outputs": [
    {
     "data": {
      "text/plain": [
       "False"
      ]
     },
     "execution_count": 255,
     "metadata": {},
     "output_type": "execute_result"
    }
   ],
   "execution_count": 255
  },
  {
   "metadata": {
    "ExecuteTime": {
     "end_time": "2025-02-18T11:59:42.320625Z",
     "start_time": "2025-02-18T11:59:42.305789Z"
    }
   },
   "cell_type": "code",
   "source": [
    "#11\n",
    "set1=set([1,2,3,4,5,6,7,8,9,10,9,9])\n",
    "set1.symmetric_difference(set2)\n"
   ],
   "id": "33116c45270788dc",
   "outputs": [
    {
     "data": {
      "text/plain": [
       "{1, 2, 3, 8, 9, 10}"
      ]
     },
     "execution_count": 257,
     "metadata": {},
     "output_type": "execute_result"
    }
   ],
   "execution_count": 257
  },
  {
   "metadata": {
    "ExecuteTime": {
     "end_time": "2025-02-18T12:00:13.514813Z",
     "start_time": "2025-02-18T12:00:13.494385Z"
    }
   },
   "cell_type": "code",
   "source": [
    "#12\n",
    "set1.add(5)\n",
    "print(set1)\n"
   ],
   "id": "ae12d9eca3051463",
   "outputs": [
    {
     "name": "stdout",
     "output_type": "stream",
     "text": [
      "{1, 2, 3, 4, 5, 6, 7, 8, 9, 10}\n"
     ]
    }
   ],
   "execution_count": 259
  },
  {
   "metadata": {
    "ExecuteTime": {
     "end_time": "2025-02-18T12:01:09.047591Z",
     "start_time": "2025-02-18T12:01:09.027850Z"
    }
   },
   "cell_type": "code",
   "source": [
    "#13\n",
    "set1.remove(2)\n",
    "print(set1)\n"
   ],
   "id": "dc335a1b961a9a51",
   "outputs": [
    {
     "name": "stdout",
     "output_type": "stream",
     "text": [
      "{1, 3, 4, 5, 6, 7, 8, 9, 10}\n"
     ]
    }
   ],
   "execution_count": 261
  },
  {
   "metadata": {
    "ExecuteTime": {
     "end_time": "2025-02-18T12:01:22.086427Z",
     "start_time": "2025-02-18T12:01:22.077833Z"
    }
   },
   "cell_type": "code",
   "source": [
    "#14\n",
    "max(set2\n",
    ")"
   ],
   "id": "9a1f10cc5369dbf3",
   "outputs": [
    {
     "data": {
      "text/plain": [
       "7"
      ]
     },
     "execution_count": 262,
     "metadata": {},
     "output_type": "execute_result"
    }
   ],
   "execution_count": 262
  },
  {
   "metadata": {
    "ExecuteTime": {
     "end_time": "2025-02-18T12:01:27.293416Z",
     "start_time": "2025-02-18T12:01:27.285686Z"
    }
   },
   "cell_type": "code",
   "source": [
    "#15\n",
    "min(set2)"
   ],
   "id": "65811f5e0f957ee9",
   "outputs": [
    {
     "data": {
      "text/plain": [
       "4"
      ]
     },
     "execution_count": 263,
     "metadata": {},
     "output_type": "execute_result"
    }
   ],
   "execution_count": 263
  },
  {
   "metadata": {
    "ExecuteTime": {
     "end_time": "2025-02-18T12:07:50.678418Z",
     "start_time": "2025-02-18T12:07:50.669171Z"
    }
   },
   "cell_type": "code",
   "source": [
    "#16\n",
    "set4= []\n",
    "for num in set1:\n",
    " if  num%2==0 :\n",
    "   set4.append(num)\n",
    "   print(set4)\n"
   ],
   "id": "ebb6dfc1ada784ec",
   "outputs": [
    {
     "name": "stdout",
     "output_type": "stream",
     "text": [
      "[4]\n",
      "[4, 6]\n",
      "[4, 6, 8]\n",
      "[4, 6, 8, 10]\n"
     ]
    }
   ],
   "execution_count": 276
  },
  {
   "metadata": {
    "ExecuteTime": {
     "end_time": "2025-02-18T12:08:14.595456Z",
     "start_time": "2025-02-18T12:08:14.580239Z"
    }
   },
   "cell_type": "code",
   "source": [
    "#17\n",
    "set4= []\n",
    "for num in set1:\n",
    " if  num%2==1:\n",
    "   set4.append(num)\n",
    "   print(set4)"
   ],
   "id": "52c16fc817d4f9fa",
   "outputs": [
    {
     "name": "stdout",
     "output_type": "stream",
     "text": [
      "[1]\n",
      "[1, 3]\n",
      "[1, 3, 5]\n",
      "[1, 3, 5, 7]\n",
      "[1, 3, 5, 7, 9]\n"
     ]
    }
   ],
   "execution_count": 278
  },
  {
   "metadata": {
    "ExecuteTime": {
     "end_time": "2025-02-18T12:10:18.616324Z",
     "start_time": "2025-02-18T12:10:18.605103Z"
    }
   },
   "cell_type": "code",
   "source": [
    "#18\n",
    "print(set(range(1,11)))\n"
   ],
   "id": "f7f904e13e6716f3",
   "outputs": [
    {
     "name": "stdout",
     "output_type": "stream",
     "text": [
      "{1, 2, 3, 4, 5, 6, 7, 8, 9, 10}\n"
     ]
    }
   ],
   "execution_count": 284
  },
  {
   "metadata": {
    "ExecuteTime": {
     "end_time": "2025-02-18T12:12:45.079656Z",
     "start_time": "2025-02-18T12:12:45.075385Z"
    }
   },
   "cell_type": "code",
   "source": [
    "#19\n",
    "set2.symmetric_difference(set1)"
   ],
   "id": "47bdf2197c97b6d7",
   "outputs": [
    {
     "data": {
      "text/plain": [
       "{1, 3, 8, 9, 10}"
      ]
     },
     "execution_count": 292,
     "metadata": {},
     "output_type": "execute_result"
    }
   ],
   "execution_count": 292
  },
  {
   "metadata": {
    "ExecuteTime": {
     "end_time": "2025-02-18T12:12:57.927281Z",
     "start_time": "2025-02-18T12:12:57.921894Z"
    }
   },
   "cell_type": "code",
   "source": [
    "#20\n",
    "set2.isdisjoint(set1)"
   ],
   "id": "93a8635e88fa03a7",
   "outputs": [
    {
     "data": {
      "text/plain": [
       "False"
      ]
     },
     "execution_count": 293,
     "metadata": {},
     "output_type": "execute_result"
    }
   ],
   "execution_count": 293
  },
  {
   "metadata": {
    "ExecuteTime": {
     "end_time": "2025-02-18T12:14:17.972960Z",
     "start_time": "2025-02-18T12:14:17.963157Z"
    }
   },
   "cell_type": "code",
   "source": [
    "#21\n",
    "print((set(set1)))"
   ],
   "id": "9aea7797fbb0f066",
   "outputs": [
    {
     "name": "stdout",
     "output_type": "stream",
     "text": [
      "{1, 3, 4, 5, 6, 7, 8, 9, 10}\n"
     ]
    }
   ],
   "execution_count": 297
  },
  {
   "metadata": {
    "ExecuteTime": {
     "end_time": "2025-02-18T12:14:23.124518Z",
     "start_time": "2025-02-18T12:14:23.118383Z"
    }
   },
   "cell_type": "code",
   "source": [
    "#22\n",
    "len(set1)"
   ],
   "id": "e1cd9b891c77fdff",
   "outputs": [
    {
     "data": {
      "text/plain": [
       "9"
      ]
     },
     "execution_count": 298,
     "metadata": {},
     "output_type": "execute_result"
    }
   ],
   "execution_count": 298
  },
  {
   "metadata": {
    "ExecuteTime": {
     "end_time": "2025-02-18T12:15:05.044283Z",
     "start_time": "2025-02-18T12:15:05.036402Z"
    }
   },
   "cell_type": "code",
   "source": [
    "#23\n",
    "import random\n",
    "rand_set = {random.randint(1, 100) for _ in range(5)}\n",
    "print(rand_set)"
   ],
   "id": "ad6c4edeeb98ed71",
   "outputs": [
    {
     "name": "stdout",
     "output_type": "stream",
     "text": [
      "{64, 45, 60, 80, 28}\n"
     ]
    }
   ],
   "execution_count": 300
  },
  {
   "metadata": {},
   "cell_type": "markdown",
   "source": "# Dictionary",
   "id": "2c9c207709390e8"
  },
  {
   "metadata": {
    "ExecuteTime": {
     "end_time": "2025-02-18T12:18:40.459920Z",
     "start_time": "2025-02-18T12:18:40.456053Z"
    }
   },
   "cell_type": "code",
   "source": [
    "#1\n",
    "my_dict={'a':1,'b':2,'c':3}\n",
    "key = 'a'\n",
    "value = my_dict.get(key)\n",
    "print(value)"
   ],
   "id": "6c5ec8af5e560342",
   "outputs": [
    {
     "name": "stdout",
     "output_type": "stream",
     "text": [
      "1\n"
     ]
    }
   ],
   "execution_count": 305
  },
  {
   "metadata": {
    "ExecuteTime": {
     "end_time": "2025-02-18T12:19:00.588443Z",
     "start_time": "2025-02-18T12:19:00.581055Z"
    }
   },
   "cell_type": "code",
   "source": [
    "#2\n",
    "'d' in my_dict"
   ],
   "id": "534bce2084172fe8",
   "outputs": [
    {
     "data": {
      "text/plain": [
       "False"
      ]
     },
     "execution_count": 307,
     "metadata": {},
     "output_type": "execute_result"
    }
   ],
   "execution_count": 307
  },
  {
   "metadata": {
    "ExecuteTime": {
     "end_time": "2025-02-18T12:19:27.502219Z",
     "start_time": "2025-02-18T12:19:27.498810Z"
    }
   },
   "cell_type": "code",
   "source": [
    "#3\n",
    "print(len (my_dict))"
   ],
   "id": "adbfc1a474c77241",
   "outputs": [
    {
     "name": "stdout",
     "output_type": "stream",
     "text": [
      "3\n"
     ]
    }
   ],
   "execution_count": 309
  },
  {
   "metadata": {
    "ExecuteTime": {
     "end_time": "2025-02-18T12:21:39.616858Z",
     "start_time": "2025-02-18T12:21:39.607011Z"
    }
   },
   "cell_type": "code",
   "source": [
    "#4\n",
    "print((my_dict.keys()))"
   ],
   "id": "51b2cf15b557bfbe",
   "outputs": [
    {
     "name": "stdout",
     "output_type": "stream",
     "text": [
      "dict_keys(['a', 'b', 'c'])\n"
     ]
    }
   ],
   "execution_count": 312
  },
  {
   "metadata": {
    "ExecuteTime": {
     "end_time": "2025-02-18T12:21:49.427821Z",
     "start_time": "2025-02-18T12:21:49.421741Z"
    }
   },
   "cell_type": "code",
   "source": [
    "#5\n",
    "print((my_dict.values()))"
   ],
   "id": "f7b4dca40b38e8b5",
   "outputs": [
    {
     "name": "stdout",
     "output_type": "stream",
     "text": [
      "dict_values([1, 2, 3])\n"
     ]
    }
   ],
   "execution_count": 313
  },
  {
   "metadata": {
    "ExecuteTime": {
     "end_time": "2025-02-18T12:25:05.306639Z",
     "start_time": "2025-02-18T12:25:05.302713Z"
    }
   },
   "cell_type": "code",
   "source": [
    "#6\n",
    "d2={'l':3 }\n",
    "d2.update(my_dict)\n",
    "print(my_dict)"
   ],
   "id": "f6f12634370ff296",
   "outputs": [
    {
     "name": "stdout",
     "output_type": "stream",
     "text": [
      "{'a': 1, 'b': 2, 'c': 3, 'l': 3}\n"
     ]
    }
   ],
   "execution_count": 321
  },
  {
   "metadata": {
    "ExecuteTime": {
     "end_time": "2025-02-18T12:26:29.438745Z",
     "start_time": "2025-02-18T12:26:29.434021Z"
    }
   },
   "cell_type": "code",
   "source": [
    "#7\n",
    "my_dict.pop('l', None)\n",
    "print(my_dict)"
   ],
   "id": "d22a93b010bdad46",
   "outputs": [
    {
     "name": "stdout",
     "output_type": "stream",
     "text": [
      "{'a': 1, 'b': 2, 'c': 3}\n"
     ]
    }
   ],
   "execution_count": 327
  },
  {
   "metadata": {
    "ExecuteTime": {
     "end_time": "2025-02-18T12:27:26.998636Z",
     "start_time": "2025-02-18T12:27:26.985676Z"
    }
   },
   "cell_type": "code",
   "source": [
    "#8\n",
    "d2.clear()\n",
    "print(d2)"
   ],
   "id": "3b67ff83a6c53d36",
   "outputs": [
    {
     "name": "stdout",
     "output_type": "stream",
     "text": [
      "{}\n"
     ]
    }
   ],
   "execution_count": 331
  },
  {
   "metadata": {
    "ExecuteTime": {
     "end_time": "2025-02-18T12:27:58.943356Z",
     "start_time": "2025-02-18T12:27:58.939356Z"
    }
   },
   "cell_type": "code",
   "source": [
    "#9\n",
    "bool (my_dict)"
   ],
   "id": "e903c4d4a3dc22c1",
   "outputs": [
    {
     "data": {
      "text/plain": [
       "False"
      ]
     },
     "execution_count": 334,
     "metadata": {},
     "output_type": "execute_result"
    }
   ],
   "execution_count": 334
  },
  {
   "metadata": {
    "ExecuteTime": {
     "end_time": "2025-02-18T12:28:10.648751Z",
     "start_time": "2025-02-18T12:28:10.645329Z"
    }
   },
   "cell_type": "code",
   "source": [
    "#10\n",
    "print(len(my_dict) == 0)"
   ],
   "id": "bce1eebdf5bbb2dc",
   "outputs": [
    {
     "name": "stdout",
     "output_type": "stream",
     "text": [
      "True\n"
     ]
    }
   ],
   "execution_count": 336
  },
  {
   "metadata": {
    "ExecuteTime": {
     "end_time": "2025-02-18T12:29:02.231631Z",
     "start_time": "2025-02-18T12:29:02.223207Z"
    }
   },
   "cell_type": "code",
   "source": [
    "#11\n",
    "d = {'a': 1}\n",
    "key = 'a'\n",
    "print((key, d[key]) if key in d else None)\n"
   ],
   "id": "20d9e601054c466b",
   "outputs": [
    {
     "name": "stdout",
     "output_type": "stream",
     "text": [
      "('a', 1)\n"
     ]
    }
   ],
   "execution_count": 338
  },
  {
   "metadata": {
    "ExecuteTime": {
     "end_time": "2025-02-18T12:30:03.552266Z",
     "start_time": "2025-02-18T12:30:03.548892Z"
    }
   },
   "cell_type": "code",
   "source": [
    "#11\n",
    "my_dict['a'] = \"5\"\n",
    "print(my_dict)\n"
   ],
   "id": "ba72d696c12677b0",
   "outputs": [
    {
     "name": "stdout",
     "output_type": "stream",
     "text": [
      "{'a': '5'}\n"
     ]
    }
   ],
   "execution_count": 340
  },
  {
   "metadata": {
    "ExecuteTime": {
     "end_time": "2025-02-18T12:37:57.698840Z",
     "start_time": "2025-02-18T12:37:57.687795Z"
    }
   },
   "cell_type": "code",
   "source": [
    "#12\n",
    "print((my_dict.values()).count('a'))\n"
   ],
   "id": "564a6fef0f69baf9",
   "outputs": [
    {
     "ename": "AttributeError",
     "evalue": "'dict_values' object has no attribute 'count'",
     "output_type": "error",
     "traceback": [
      "\u001B[1;31m---------------------------------------------------------------------------\u001B[0m",
      "\u001B[1;31mAttributeError\u001B[0m                            Traceback (most recent call last)",
      "Cell \u001B[1;32mIn[405], line 1\u001B[0m\n\u001B[1;32m----> 1\u001B[0m \u001B[38;5;28mprint\u001B[39m(\u001B[43m(\u001B[49m\u001B[43mmy_dict\u001B[49m\u001B[38;5;241;43m.\u001B[39;49m\u001B[43mvalues\u001B[49m\u001B[43m(\u001B[49m\u001B[43m)\u001B[49m\u001B[43m)\u001B[49m\u001B[38;5;241;43m.\u001B[39;49m\u001B[43mcount\u001B[49m(\u001B[38;5;124m'\u001B[39m\u001B[38;5;124ma\u001B[39m\u001B[38;5;124m'\u001B[39m))\n",
      "\u001B[1;31mAttributeError\u001B[0m: 'dict_values' object has no attribute 'count'"
     ]
    }
   ],
   "execution_count": 405
  },
  {
   "metadata": {
    "ExecuteTime": {
     "end_time": "2025-02-18T12:36:27.480954Z",
     "start_time": "2025-02-18T12:36:27.476911Z"
    }
   },
   "cell_type": "code",
   "source": [
    "#13\n",
    "inverted = {v: k for k, v in my_dict.items()}\n",
    "print(inverted)"
   ],
   "id": "c9323c22da88802d",
   "outputs": [
    {
     "name": "stdout",
     "output_type": "stream",
     "text": [
      "{1: 'a', 2: 'b', 3: 'c'}\n"
     ]
    }
   ],
   "execution_count": 381
  },
  {
   "metadata": {
    "ExecuteTime": {
     "end_time": "2025-02-18T12:39:34.541909Z",
     "start_time": "2025-02-18T12:39:34.538435Z"
    }
   },
   "cell_type": "code",
   "source": [
    "#14\n",
    "value = 1\n",
    "print([k for k, v in my_dict.items() if v == value])"
   ],
   "id": "aa8eab93fe05b295",
   "outputs": [
    {
     "name": "stdout",
     "output_type": "stream",
     "text": [
      "['a', 'b']\n"
     ]
    }
   ],
   "execution_count": 411
  },
  {
   "metadata": {
    "ExecuteTime": {
     "end_time": "2025-02-18T12:39:41.210168Z",
     "start_time": "2025-02-18T12:39:41.207216Z"
    }
   },
   "cell_type": "code",
   "source": [
    "#15\n",
    "keys, values = ['a', 'b'], [1, 2]\n",
    "print(dict(zip(keys, values)))"
   ],
   "id": "d20be356a1a34689",
   "outputs": [
    {
     "name": "stdout",
     "output_type": "stream",
     "text": [
      "{'a': 1, 'b': 2}\n"
     ]
    }
   ],
   "execution_count": 413
  },
  {
   "metadata": {
    "ExecuteTime": {
     "end_time": "2025-02-18T12:41:29.091778Z",
     "start_time": "2025-02-18T12:41:29.088109Z"
    }
   },
   "cell_type": "code",
   "source": [
    "#16\n",
    "print(any(isinstance(v, dict) for v in my_dict.values()))\n"
   ],
   "id": "ad6f7946fbd3949",
   "outputs": [
    {
     "name": "stdout",
     "output_type": "stream",
     "text": [
      "False\n"
     ]
    }
   ],
   "execution_count": 415
  },
  {
   "metadata": {
    "ExecuteTime": {
     "end_time": "2025-02-18T12:41:42.931151Z",
     "start_time": "2025-02-18T12:41:42.927288Z"
    }
   },
   "cell_type": "code",
   "source": [
    "#17\n",
    "d = {'a': {'b': 2}}\n",
    "print(d['a']['b'])"
   ],
   "id": "1cbea54251d1d70d",
   "outputs": [
    {
     "name": "stdout",
     "output_type": "stream",
     "text": [
      "2\n"
     ]
    }
   ],
   "execution_count": 417
  },
  {
   "metadata": {
    "ExecuteTime": {
     "end_time": "2025-02-18T12:42:37.696504Z",
     "start_time": "2025-02-18T12:42:37.693755Z"
    }
   },
   "cell_type": "code",
   "source": [
    "#18\n",
    "my_dict.get('c', None)\n",
    "print(my_dict.get('c', None))"
   ],
   "id": "87343baf9f48b051",
   "outputs": [
    {
     "name": "stdout",
     "output_type": "stream",
     "text": [
      "None\n"
     ]
    }
   ],
   "execution_count": 421
  },
  {
   "metadata": {
    "ExecuteTime": {
     "end_time": "2025-02-18T12:57:47.757499Z",
     "start_time": "2025-02-18T12:57:47.744900Z"
    }
   },
   "cell_type": "code",
   "source": [
    "#19\n",
    "len(set(my_dict.values()))"
   ],
   "id": "ab7c60da9b516dcb",
   "outputs": [
    {
     "data": {
      "text/plain": [
       "1"
      ]
     },
     "execution_count": 445,
     "metadata": {},
     "output_type": "execute_result"
    }
   ],
   "execution_count": 445
  },
  {
   "metadata": {
    "ExecuteTime": {
     "end_time": "2025-02-18T12:44:08.152979Z",
     "start_time": "2025-02-18T12:44:08.145955Z"
    }
   },
   "cell_type": "code",
   "source": [
    "#20\n",
    "dict(sorted(my_dict.items()))"
   ],
   "id": "b85228f76976701",
   "outputs": [
    {
     "data": {
      "text/plain": [
       "{'a': 1, 'b': 1}"
      ]
     },
     "execution_count": 425,
     "metadata": {},
     "output_type": "execute_result"
    }
   ],
   "execution_count": 425
  },
  {
   "metadata": {
    "ExecuteTime": {
     "end_time": "2025-02-18T12:44:30.326205Z",
     "start_time": "2025-02-18T12:44:30.322399Z"
    }
   },
   "cell_type": "code",
   "source": [
    "#21\n",
    "print(dict(sorted(d.items(), key=lambda x: x[1])))"
   ],
   "id": "79d95949f480835a",
   "outputs": [
    {
     "name": "stdout",
     "output_type": "stream",
     "text": [
      "{'a': {'b': 2}}\n"
     ]
    }
   ],
   "execution_count": 427
  },
  {
   "metadata": {
    "ExecuteTime": {
     "end_time": "2025-02-18T12:45:06.660889Z",
     "start_time": "2025-02-18T12:45:06.656890Z"
    }
   },
   "cell_type": "code",
   "source": [
    "#22\n",
    "print({k: v for k, v in my_dict.items() if v > 1})"
   ],
   "id": "d35087a411ea247e",
   "outputs": [
    {
     "name": "stdout",
     "output_type": "stream",
     "text": [
      "{}\n"
     ]
    }
   ],
   "execution_count": 431
  },
  {
   "metadata": {
    "ExecuteTime": {
     "end_time": "2025-02-18T12:45:44.446897Z",
     "start_time": "2025-02-18T12:45:44.438649Z"
    }
   },
   "cell_type": "code",
   "source": [
    "#23\n",
    "print(bool(set(my_dict.keys()) & set(d2.keys())))"
   ],
   "id": "7455a3615bb7365c",
   "outputs": [
    {
     "name": "stdout",
     "output_type": "stream",
     "text": [
      "False\n"
     ]
    }
   ],
   "execution_count": 433
  },
  {
   "metadata": {
    "ExecuteTime": {
     "end_time": "2025-02-18T12:46:23.293205Z",
     "start_time": "2025-02-18T12:46:23.289025Z"
    }
   },
   "cell_type": "code",
   "source": [
    "#24\n",
    "tpl = (('a', 1), ('b', 2))\n",
    "print(dict(tpl))"
   ],
   "id": "f7c5e4374cb4b5b9",
   "outputs": [
    {
     "name": "stdout",
     "output_type": "stream",
     "text": [
      "{'a': 1, 'b': 2}\n"
     ]
    }
   ],
   "execution_count": 435
  },
  {
   "metadata": {
    "ExecuteTime": {
     "end_time": "2025-02-18T12:49:10.510596Z",
     "start_time": "2025-02-18T12:49:10.506558Z"
    }
   },
   "cell_type": "code",
   "source": [
    "#25\n",
    "print(next(iter((my_dict.items()))))"
   ],
   "id": "905b0c69a214913d",
   "outputs": [
    {
     "name": "stdout",
     "output_type": "stream",
     "text": [
      "('a', 1)\n"
     ]
    }
   ],
   "execution_count": 443
  }
 ],
 "metadata": {
  "kernelspec": {
   "display_name": "Python 3",
   "language": "python",
   "name": "python3"
  },
  "language_info": {
   "codemirror_mode": {
    "name": "ipython",
    "version": 2
   },
   "file_extension": ".py",
   "mimetype": "text/x-python",
   "name": "python",
   "nbconvert_exporter": "python",
   "pygments_lexer": "ipython2",
   "version": "2.7.6"
  }
 },
 "nbformat": 4,
 "nbformat_minor": 5
}
