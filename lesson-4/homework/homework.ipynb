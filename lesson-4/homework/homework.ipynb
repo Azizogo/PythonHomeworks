{
 "cells": [
  {
   "metadata": {},
   "cell_type": "markdown",
   "source": "",
   "id": "8f349ba8d6828ab1"
  },
  {
   "metadata": {},
   "cell_type": "markdown",
   "source": [
    "# Question 2\n",
    "Difference Between continue and break Statements in Python.\n",
    "Both continue and break are loop control statements, but they behave differently:\n",
    "\n",
    "break: Exits the loop entirely when executed.\n",
    "continue: Skips the rest of the current iteration and moves to the next iteration of the loop.\n",
    "\n",
    "# Question 3\n",
    "Difference Between for Loop and while Loop in Python.\n",
    "for loop: Used when the number of iterations is known or when iterating over a sequence (list, tuple, string, etc.).\n",
    "while loop: Used when the number of iterations is not known in advance; it continues as long as a condition remains True.\n",
    "\n",
    "\n",
    "# Question 4\n",
    "Implementing a Nested for Loop.\n",
    "A nested for loop is a loop inside another loop.\n",
    "\n",
    "for i in range(3):  # Outer loop\n",
    "    for j in range(2):  # Inner loop\n",
    "        print(f\"i={i}, j={j}\")\n",
    "\n"
   ],
   "id": "abea247750059d62"
  },
  {
   "metadata": {
    "ExecuteTime": {
     "end_time": "2025-02-19T17:24:45.651662Z",
     "start_time": "2025-02-19T17:24:45.639053Z"
    }
   },
   "cell_type": "code",
   "source": [
    "from debugpy.adapter.sessions import report_sockets\n",
    "\n",
    "#1\n",
    "list1= [1, 1, 2]\n",
    "list2= [2, 3, 4]\n",
    "list3= []\n",
    "for items in list1:\n",
    " if items not in list2:\n",
    "     list3.append(items)\n",
    "for items in list2:\n",
    "    if items not in list1:\n",
    "        list3.append(items)\n",
    "\n",
    "print(list3)\n",
    "\n",
    "\n"
   ],
   "id": "71756ae04309a8e5",
   "outputs": [
    {
     "name": "stdout",
     "output_type": "stream",
     "text": [
      "[1, 1, 3, 4]\n"
     ]
    }
   ],
   "execution_count": 16
  },
  {
   "metadata": {
    "ExecuteTime": {
     "end_time": "2025-02-19T17:33:33.051191Z",
     "start_time": "2025-02-19T17:33:29.269810Z"
    }
   },
   "cell_type": "code",
   "source": [
    "#2\n",
    "n = int(input(\"n = \"))\n",
    "for num in range(1,n):\n",
    "    if num <=n :\n",
    "        square = num*num\n",
    "        print(square)\n",
    "\n"
   ],
   "id": "8d4742a5997435eb",
   "outputs": [
    {
     "name": "stdout",
     "output_type": "stream",
     "text": [
      "1\n",
      "4\n",
      "9\n"
     ]
    }
   ],
   "execution_count": 25
  },
  {
   "metadata": {
    "ExecuteTime": {
     "end_time": "2025-02-19T17:50:17.349028Z",
     "start_time": "2025-02-19T17:50:12.600351Z"
    }
   },
   "cell_type": "code",
   "source": [
    "#3\n",
    "txt = input(\"Enter the string: \")\n",
    "result = \"\"\n",
    "harf = \"aeuioAEUIO\"\n",
    "i = 0\n",
    "count = 0\n",
    "\n",
    "while i < len(txt):\n",
    "    result += txt[i]\n",
    "    count += 1\n",
    "    if count % 3 == 0 and i != len(txt) - 1:\n",
    "        if txt[i] not in harf:\n",
    "            result += \"_\"\n",
    "    if txt[i] in harf or (len(result) > 1 and result[-2] == \"_\"):\n",
    "        if i + 1 < len(txt):\n",
    "            result += txt[i + 1] + \"_\"\n",
    "            i += 1\n",
    "\n",
    "    i += 1\n",
    "\n",
    "print(result)"
   ],
   "id": "1a3134523eae0656",
   "outputs": [
    {
     "name": "stdout",
     "output_type": "stream",
     "text": [
      "ddf_eq_qe_w_ed_sq_aa_wq_\n"
     ]
    }
   ],
   "execution_count": 38
  },
  {
   "metadata": {
    "ExecuteTime": {
     "end_time": "2025-02-19T18:17:36.518665Z",
     "start_time": "2025-02-19T18:17:33.094269Z"
    }
   },
   "cell_type": "code",
   "source": [
    "#5\n",
    "pchecker=input(\"Enter your password : \")\n",
    "if len(pchecker)<8:\n",
    " print(\"password is short\")\n",
    "if pchecker.lower() == pchecker:\n",
    "  print(\"password must contain uppercase letter\")\n",
    "else:\n",
    " print(\"password is strong\")\n"
   ],
   "id": "8f7cee4338c7fed1",
   "outputs": [
    {
     "name": "stdout",
     "output_type": "stream",
     "text": [
      "password is strong\n"
     ]
    }
   ],
   "execution_count": 45
  },
  {
   "metadata": {
    "ExecuteTime": {
     "end_time": "2025-02-19T18:22:04.870211Z",
     "start_time": "2025-02-19T18:22:04.866279Z"
    }
   },
   "cell_type": "code",
   "source": [
    "#6\n",
    "for num in range(1,100):\n",
    "    if num % 2 == 0:\n",
    "        continue\n",
    "    if num % 3 == 0:\n",
    "        continue\n",
    "    if num % 5 == 0:\n",
    "        continue\n",
    "    else:\n",
    "        print(num)\n",
    "\n",
    "\n",
    "\n",
    "\n"
   ],
   "id": "591d82ba85a32ae3",
   "outputs": [
    {
     "name": "stdout",
     "output_type": "stream",
     "text": [
      "1\n",
      "7\n",
      "11\n",
      "13\n",
      "17\n",
      "19\n",
      "23\n",
      "29\n",
      "31\n",
      "37\n",
      "41\n",
      "43\n",
      "47\n",
      "49\n",
      "53\n",
      "59\n",
      "61\n",
      "67\n",
      "71\n",
      "73\n",
      "77\n",
      "79\n",
      "83\n",
      "89\n",
      "91\n",
      "97\n"
     ]
    }
   ],
   "execution_count": 46
  },
  {
   "metadata": {},
   "cell_type": "code",
   "outputs": [],
   "execution_count": null,
   "source": [
    "#bonus\n",
    "a1=rock\n",
    "a2=paper\n",
    "a3=scissors\n",
    "random.(a1,a2,a3)\n"
   ],
   "id": "a89d26e64a014544"
  }
 ],
 "metadata": {
  "kernelspec": {
   "display_name": "Python 3",
   "language": "python",
   "name": "python3"
  },
  "language_info": {
   "codemirror_mode": {
    "name": "ipython",
    "version": 2
   },
   "file_extension": ".py",
   "mimetype": "text/x-python",
   "name": "python",
   "nbconvert_exporter": "python",
   "pygments_lexer": "ipython2",
   "version": "2.7.6"
  }
 },
 "nbformat": 4,
 "nbformat_minor": 5
}
