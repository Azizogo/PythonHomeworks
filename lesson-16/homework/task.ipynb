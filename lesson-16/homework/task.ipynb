{
 "cells": [
  {
   "cell_type": "code",
   "execution_count": null,
   "id": "initial_id",
   "metadata": {
    "collapsed": true
   },
   "outputs": [],
   "source": [
    "import pandas as pd\n",
    "import sqlite3\n",
    "\n",
    "# 1.1\n",
    "\n",
    "with sqlite3.connect('data/chinook.db') as con:\n",
    "    df_chinook = pd.read_sql_query(\"SELECT * FROM customers\", con)\n",
    "\n",
    "\n",
    "print(df_chinook.head(10))"
   ]
  },
  {
   "metadata": {},
   "cell_type": "code",
   "outputs": [],
   "execution_count": null,
   "source": [
    "# 1.2\n",
    "\n",
    "import json\n",
    "\n",
    "with open(\"data/iris.json\") as f:\n",
    "    data = json.load(f)\n",
    "\n",
    "df_iris = pd.DataFrame(data)\n",
    "\n",
    "print(df_iris.shape)\n",
    "print(df_iris.columns)"
   ],
   "id": "192ebb76a18a18b9"
  },
  {
   "metadata": {},
   "cell_type": "code",
   "outputs": [],
   "execution_count": null,
   "source": [
    "# 1.3\n",
    "\n",
    "df_titanic = pd.read_excel(\"data/titanic.xlsx\")\n",
    "df_titanic.head()\n"
   ],
   "id": "9dbd610d735b32c3"
  },
  {
   "metadata": {},
   "cell_type": "code",
   "outputs": [],
   "execution_count": null,
   "source": [
    "# 1.4\n",
    "\n",
    "df_flights = pd.read_parquet('data/flights')\n",
    "df_flights.info()"
   ],
   "id": "7e8b70f8d429fef1"
  },
  {
   "metadata": {},
   "cell_type": "code",
   "outputs": [],
   "execution_count": null,
   "source": [
    "# 1.5\n",
    "\n",
    "df_movie = pd.read_csv(\"data/movie.csv\")\n",
    "df_movie.sample(10)"
   ],
   "id": "b955d180c5daf70d"
  },
  {
   "metadata": {},
   "cell_type": "code",
   "outputs": [],
   "execution_count": null,
   "source": [
    "# 2.1\n",
    "\n",
    "df_iris.columns = df_iris.columns.str.lower()\n",
    "\n",
    "df_iris[['sepallength', 'sepalwidth']]"
   ],
   "id": "3da65814f3ceb649"
  },
  {
   "metadata": {},
   "cell_type": "code",
   "outputs": [],
   "execution_count": null,
   "source": [
    "# 2.2\n",
    "\n",
    "print(df_titanic[df_titanic[\"Age\"] > 30])\n",
    "print(df_titanic.value_counts(\"Sex\"))"
   ],
   "id": "ff0a996f0cb4ef00"
  },
  {
   "metadata": {},
   "cell_type": "code",
   "outputs": [],
   "execution_count": null,
   "source": [
    "# 2.3\n",
    "\n",
    "new_columns1 = [column.lower() for column in df_flights.columns]\n",
    "df_flights.columns = new_columns1\n",
    "extract = df_flights[[\"origin\", \"dest\"]]\n",
    "unique = extract[\"dest\"].nunique()"
   ],
   "id": "b1a1236723cd6019"
  },
  {
   "metadata": {},
   "cell_type": "code",
   "outputs": [],
   "execution_count": null,
   "source": [
    "# 2.4\n",
    "\n",
    "\n",
    "filtered_data = df_movie[df_movie[\"duration\"]> 120]\n",
    "filtered_data = filtered_data.sort_values(by=[\"director_facebook_likes\"], ascending=False)"
   ],
   "id": "f85629929efd2da5"
  },
  {
   "metadata": {},
   "cell_type": "code",
   "outputs": [],
   "execution_count": null,
   "source": [
    "# 3.1\n",
    "\n",
    "numeric_columns = df_iris.select_dtypes(\"number\")\n",
    "print(numeric_columns.mean())\n",
    "print(numeric_columns.median())\n",
    "print(numeric_columns.std())"
   ],
   "id": "dfc7dc1309a89a95"
  },
  {
   "metadata": {},
   "cell_type": "code",
   "outputs": [],
   "execution_count": null,
   "source": [
    "# 3.2\n",
    "\n",
    "print(df_titanic[[\"Age\"]].min())\n",
    "print(df_titanic[[\"Age\"]].max())\n",
    "print(df_titanic[[\"Age\"]].sum())"
   ],
   "id": "8bac47d102f8528"
  },
  {
   "metadata": {},
   "cell_type": "code",
   "outputs": [],
   "execution_count": null,
   "source": [
    "# 3.3\n",
    "\n",
    "print(filtered_data.head(1))"
   ],
   "id": "2a814000d1b95aa9"
  },
  {
   "metadata": {},
   "cell_type": "code",
   "outputs": [],
   "execution_count": null,
   "source": [
    "# 3.4\n",
    "\n",
    "missing_values = df_flights.isnull().sum()\n",
    "missing_values\n",
    "for column in df_flights.select_dtypes(\"number\").columns:\n",
    "    df_flights[df_flights[column].isna()] = df_flights[column].mean()"
   ],
   "id": "15e7f7fcd4855004"
  }
 ],
 "metadata": {
  "kernelspec": {
   "display_name": "Python 3",
   "language": "python",
   "name": "python3"
  },
  "language_info": {
   "codemirror_mode": {
    "name": "ipython",
    "version": 2
   },
   "file_extension": ".py",
   "mimetype": "text/x-python",
   "name": "python",
   "nbconvert_exporter": "python",
   "pygments_lexer": "ipython2",
   "version": "2.7.6"
  }
 },
 "nbformat": 4,
 "nbformat_minor": 5
}
